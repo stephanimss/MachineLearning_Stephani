{
  "nbformat": 4,
  "nbformat_minor": 0,
  "metadata": {
    "colab": {
      "provenance": [],
      "authorship_tag": "ABX9TyOLkdKm0C8dh9C/RMAQ6Te/",
      "include_colab_link": true
    },
    "kernelspec": {
      "name": "python3",
      "display_name": "Python 3"
    },
    "language_info": {
      "name": "python"
    }
  },
  "cells": [
    {
      "cell_type": "markdown",
      "metadata": {
        "id": "view-in-github",
        "colab_type": "text"
      },
      "source": [
        "<a href=\"https://colab.research.google.com/github/stephanimss/MachineLearning_Stephani/blob/main/Stephani_Maria_Sianturi_103052300083.ipynb\" target=\"_parent\"><img src=\"https://colab.research.google.com/assets/colab-badge.svg\" alt=\"Open In Colab\"/></a>"
      ]
    },
    {
      "cell_type": "markdown",
      "source": [
        "Stephani Maria Sianturi\n",
        "\n",
        "103052300083\n",
        "\n",
        "DS-47-01"
      ],
      "metadata": {
        "id": "NTCtOpD6Sj3z"
      }
    },
    {
      "cell_type": "code",
      "execution_count": 101,
      "metadata": {
        "id": "_Spj1c8mtW_m"
      },
      "outputs": [],
      "source": [
        "import pandas as pd\n",
        "from sklearn.preprocessing import MinMaxScaler, LabelEncoder"
      ]
    },
    {
      "cell_type": "code",
      "source": [
        "#Memanggil file data\n",
        "df = pd.read_excel(\"/content/MachineLearning/CAD alizadeh.xls\")"
      ],
      "metadata": {
        "id": "_vJ3feNsJsln"
      },
      "execution_count": 102,
      "outputs": []
    },
    {
      "cell_type": "code",
      "source": [
        "#Menampilkan beberapa data awal\n",
        "print(\"Data Awal:\")\n",
        "print(df.head())"
      ],
      "metadata": {
        "colab": {
          "base_uri": "https://localhost:8080/"
        },
        "id": "x5_miGdeJuK4",
        "outputId": "be6507d8-c4d7-4749-8f59-f2eaafb46017"
      },
      "execution_count": 103,
      "outputs": [
        {
          "output_type": "stream",
          "name": "stdout",
          "text": [
            "Data Awal:\n",
            "   No  Age  Weight  Length    Sex        BMI  DM  HTN  Current Smoker  \\\n",
            "0   1   53      90     175   Male  29.387755   0    1               1   \n",
            "1   2   67      70     157  Fmale  28.398718   0    1               0   \n",
            "2   3   54      54     164   Male  20.077335   0    0               1   \n",
            "3   4   66      67     158  Fmale  26.838648   0    1               0   \n",
            "4   5   50      87     153  Fmale  37.165193   0    1               0   \n",
            "\n",
            "   EX-Smoker  ...    K   Na    WBC Lymph Neut  PLT EF-TTE Region RWMA     VHD  \\\n",
            "0          0  ...  4.7  141   5700    39   52  261     50           0       N   \n",
            "1          0  ...  4.7  156   7700    38   55  165     40           4       N   \n",
            "2          0  ...  4.7  139   7400    38   60  230     40           2    mild   \n",
            "3          0  ...  4.4  142  13000    18   72  742     55           0  Severe   \n",
            "4          0  ...  4.0  140   9200    55   39  274     50           0  Severe   \n",
            "\n",
            "     Cath  \n",
            "0     Cad  \n",
            "1     Cad  \n",
            "2     Cad  \n",
            "3  Normal  \n",
            "4  Normal  \n",
            "\n",
            "[5 rows x 56 columns]\n"
          ]
        }
      ]
    },
    {
      "cell_type": "code",
      "source": [
        "#Memeriksa apakah ada nilai kosong\n",
        "print(\"\\nCek nilai kosong:\")\n",
        "print(df.isnull().sum())\n",
        "\n",
        "# Jika ada nilai kosong, diisi dengan modus untuk kategori dan median untuk numerik\n",
        "for col in df.columns:\n",
        "    if df[col].dtype == 'object':  # Jika kolom kategori\n",
        "        df[col].fillna(df[col].mode()[0], inplace=True)\n",
        "    else:  # Jika kolom numerik\n",
        "        df[col].fillna(df[col].median(), inplace=True)"
      ],
      "metadata": {
        "colab": {
          "base_uri": "https://localhost:8080/"
        },
        "id": "om061eQ1JxmK",
        "outputId": "f68db5e0-94eb-42a9-c22c-abdecee9e009"
      },
      "execution_count": 104,
      "outputs": [
        {
          "output_type": "stream",
          "name": "stdout",
          "text": [
            "\n",
            "Cek nilai kosong:\n",
            "No                       0\n",
            "Age                      0\n",
            "Weight                   0\n",
            "Length                   0\n",
            "Sex                      0\n",
            "BMI                      0\n",
            "DM                       0\n",
            "HTN                      0\n",
            "Current Smoker           0\n",
            "EX-Smoker                0\n",
            "FH                       0\n",
            "Obesity                  0\n",
            "CRF                      0\n",
            "CVA                      0\n",
            "Airway disease           0\n",
            "Thyroid Disease          0\n",
            "CHF                      0\n",
            "DLP                      0\n",
            "BP                       0\n",
            "PR                       0\n",
            "Edema                    0\n",
            "Weak Peripheral Pulse    0\n",
            "Lung rales               0\n",
            "Systolic Murmur          0\n",
            "Diastolic Murmur         0\n",
            "Typical Chest Pain       0\n",
            "Dyspnea                  0\n",
            "Function Class           0\n",
            "Atypical                 0\n",
            "Nonanginal               0\n",
            "Exertional CP            0\n",
            "LowTH Ang                0\n",
            "Q Wave                   0\n",
            "St Elevation             0\n",
            "St Depression            0\n",
            "Tinversion               0\n",
            "LVH                      0\n",
            "Poor R Progression       0\n",
            "FBS                      0\n",
            "CR                       0\n",
            "TG                       0\n",
            "LDL                      0\n",
            "HDL                      0\n",
            "BUN                      0\n",
            "ESR                      0\n",
            "HB                       0\n",
            "K                        0\n",
            "Na                       0\n",
            "WBC                      0\n",
            "Lymph                    0\n",
            "Neut                     0\n",
            "PLT                      0\n",
            "EF-TTE                   0\n",
            "Region RWMA              0\n",
            "VHD                      0\n",
            "Cath                     0\n",
            "dtype: int64\n"
          ]
        },
        {
          "output_type": "stream",
          "name": "stderr",
          "text": [
            "<ipython-input-104-074a3c48670c>:10: FutureWarning: A value is trying to be set on a copy of a DataFrame or Series through chained assignment using an inplace method.\n",
            "The behavior will change in pandas 3.0. This inplace method will never work because the intermediate object on which we are setting values always behaves as a copy.\n",
            "\n",
            "For example, when doing 'df[col].method(value, inplace=True)', try using 'df.method({col: value}, inplace=True)' or df[col] = df[col].method(value) instead, to perform the operation inplace on the original object.\n",
            "\n",
            "\n",
            "  df[col].fillna(df[col].median(), inplace=True)\n",
            "<ipython-input-104-074a3c48670c>:8: FutureWarning: A value is trying to be set on a copy of a DataFrame or Series through chained assignment using an inplace method.\n",
            "The behavior will change in pandas 3.0. This inplace method will never work because the intermediate object on which we are setting values always behaves as a copy.\n",
            "\n",
            "For example, when doing 'df[col].method(value, inplace=True)', try using 'df.method({col: value}, inplace=True)' or df[col] = df[col].method(value) instead, to perform the operation inplace on the original object.\n",
            "\n",
            "\n",
            "  df[col].fillna(df[col].mode()[0], inplace=True)\n"
          ]
        }
      ]
    },
    {
      "cell_type": "code",
      "source": [
        "#Mengubah semua kolom teks menjadi numerik\n",
        "label_encoders = {}\n",
        "for col in df.select_dtypes(include=['object']).columns:\n",
        "    le = LabelEncoder()\n",
        "    df[col] = le.fit_transform(df[col])\n",
        "    label_encoders[col] = le"
      ],
      "metadata": {
        "id": "JPEjXz-KJzmk"
      },
      "execution_count": 105,
      "outputs": []
    },
    {
      "cell_type": "code",
      "source": [
        "#Melakukan normalisasi pada masing-masing atribut agar memiliki skala yang sama\n",
        "scaler = MinMaxScaler()\n",
        "df_normalized = pd.DataFrame(scaler.fit_transform(df), columns=df.columns)\n",
        "\n",
        "#Hasil data setelah normalisasi\n",
        "print(\"\\nData Setelah Normalisasi:\")\n",
        "print(df_normalized.head())"
      ],
      "metadata": {
        "colab": {
          "base_uri": "https://localhost:8080/"
        },
        "id": "ZjPjEJp4J5Ce",
        "outputId": "6ffbcfd9-4498-4c98-b22a-d307fff08622"
      },
      "execution_count": 106,
      "outputs": [
        {
          "output_type": "stream",
          "name": "stdout",
          "text": [
            "\n",
            "Data Setelah Normalisasi:\n",
            "         No       Age    Weight    Length  Sex       BMI   DM  HTN  \\\n",
            "0  0.000000  0.410714  0.583333  0.729167  1.0  0.494721  0.0  1.0   \n",
            "1  0.003311  0.660714  0.305556  0.354167  0.0  0.451314  0.0  1.0   \n",
            "2  0.006623  0.428571  0.083333  0.500000  1.0  0.086105  0.0  0.0   \n",
            "3  0.009934  0.642857  0.263889  0.375000  0.0  0.382846  0.0  1.0   \n",
            "4  0.013245  0.357143  0.541667  0.270833  0.0  0.836058  0.0  1.0   \n",
            "\n",
            "   Current Smoker  EX-Smoker  ...         K        Na       WBC     Lymph  \\\n",
            "0             1.0        0.0  ...  0.472222  0.464286  0.139860  0.603774   \n",
            "1             0.0        0.0  ...  0.472222  1.000000  0.279720  0.584906   \n",
            "2             1.0        0.0  ...  0.472222  0.392857  0.258741  0.584906   \n",
            "3             0.0        0.0  ...  0.388889  0.500000  0.650350  0.207547   \n",
            "4             0.0        0.0  ...  0.277778  0.428571  0.384615  0.905660   \n",
            "\n",
            "       Neut       PLT    EF-TTE  Region RWMA       VHD  Cath  \n",
            "0  0.350877  0.329149  0.777778          0.0  0.333333   0.0  \n",
            "1  0.403509  0.195258  0.555556          1.0  0.333333   0.0  \n",
            "2  0.491228  0.285914  0.555556          0.5  1.000000   0.0  \n",
            "3  0.701754  1.000000  0.888889          0.0  0.666667   1.0  \n",
            "4  0.122807  0.347280  0.777778          0.0  0.666667   1.0  \n",
            "\n",
            "[5 rows x 56 columns]\n"
          ]
        }
      ]
    },
    {
      "cell_type": "code",
      "source": [
        "from sklearn.model_selection import train_test_split\n",
        "from sklearn.naive_bayes import GaussianNB\n",
        "from sklearn.metrics import accuracy_score, classification_report, confusion_matrix"
      ],
      "metadata": {
        "id": "ca90qWUsHabR"
      },
      "execution_count": 107,
      "outputs": []
    },
    {
      "cell_type": "code",
      "source": [
        "#Membagi data menjadi data latih dan data testing\n",
        "#Memisahkan fitur (X) dan target (y)\n",
        "X = df_normalized.drop(columns=['Cath'],  axis=1)  # Fitur\n",
        "y = df_normalized['Cath']                          # Target\n",
        "\n",
        "# Membagi data menjadi data latih (70%) dan data testing (30%)\n",
        "train_data, test_data = train_test_split(df_normalized, test_size=0.3, random_state=42)\n",
        "\n",
        "print(f\"Jumlah data latih: {len(X_train)}\")\n",
        "print(f\"Jumlah data uji: {len(X_test)}\")"
      ],
      "metadata": {
        "colab": {
          "base_uri": "https://localhost:8080/"
        },
        "id": "p1LQLaLNIDtK",
        "outputId": "3a7e7cdc-7165-42bf-ccb1-d0f54221da61"
      },
      "execution_count": 108,
      "outputs": [
        {
          "output_type": "stream",
          "name": "stdout",
          "text": [
            "Jumlah data latih: 212\n",
            "Jumlah data uji: 91\n"
          ]
        }
      ]
    },
    {
      "cell_type": "code",
      "source": [
        "#Melakukan klasifikasi data CAD Alizadeh menggunakan Naive Bayes\n",
        "# Inisialisasi model Naive Bayes\n",
        "model_nb = GaussianNB()\n",
        "\n",
        "# Melatih model menggunakan data latih\n",
        "model_nb.fit(X_train, y_train)\n",
        "\n",
        "# Melakukan prediksi pada data uji\n",
        "y_pred = model_nb.predict(X_test)"
      ],
      "metadata": {
        "id": "m9qIvDFnXcMM"
      },
      "execution_count": 109,
      "outputs": []
    },
    {
      "cell_type": "code",
      "source": [
        "#Menghitung performansi dari masalah klasifikasi\n",
        "akurasi = accuracy_score(y_test, y_pred)\n",
        "print(\"Accuracy:\", akurasi)\n",
        "print(\"Classification Report:\\n\", classification_report(y_test, y_pred))\n",
        "print(\"Confusion Matrix:\\n\", confusion_matrix(y_test, y_pred))"
      ],
      "metadata": {
        "colab": {
          "base_uri": "https://localhost:8080/"
        },
        "id": "IMxi7zAVaOJf",
        "outputId": "08e3842b-41fc-446a-b836-8ca349ae5fcf"
      },
      "execution_count": 110,
      "outputs": [
        {
          "output_type": "stream",
          "name": "stdout",
          "text": [
            "Accuracy: 0.4945054945054945\n",
            "Classification Report:\n",
            "               precision    recall  f1-score   support\n",
            "\n",
            "         0.0       1.00      0.30      0.47        66\n",
            "         1.0       0.35      1.00      0.52        25\n",
            "\n",
            "    accuracy                           0.49        91\n",
            "   macro avg       0.68      0.65      0.49        91\n",
            "weighted avg       0.82      0.49      0.48        91\n",
            "\n",
            "Confusion Matrix:\n",
            " [[20 46]\n",
            " [ 0 25]]\n"
          ]
        }
      ]
    }
  ]
}